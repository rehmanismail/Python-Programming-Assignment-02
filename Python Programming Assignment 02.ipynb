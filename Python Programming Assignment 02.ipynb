{
 "cells": [
  {
   "cell_type": "markdown",
   "metadata": {},
   "source": [
    "## **1-Add two numbers**<br>\n",
    "\n",
    "**Write a Python program that takes two integer inputs from the user and calculates their sum. The program should perform the following tasks:**<br>\n",
    "\n",
    "i-Prompt the user to enter the first number.<br>\n",
    "\n",
    "ii-Read the input and convert it to an integer.<br>\n",
    "\n",
    "iii-Prompt the user to enter the second number.<br>\n",
    "\n",
    "iv-Read the input and convert it to an integer.<br>\n",
    "\n",
    "v-Calculate the sum of the two numbers.<br>\n",
    "\n",
    "**Print the total sum with an appropriate message.**"
   ]
  },
  {
   "cell_type": "code",
   "execution_count": 8,
   "metadata": {},
   "outputs": [
    {
     "name": "stdout",
     "output_type": "stream",
     "text": [
      "The sum of 12 and 39 is 51\n"
     ]
    }
   ],
   "source": [
    "## Make the function of sum of two numbers\n",
    "\n",
    "num1: int = int(input(\"Enter the First Number?\"))\n",
    "num2: int = int(input(\"Enter the Second Number?\"))\n",
    "\n",
    "\n",
    "def sum_of_two_numbers(num1, num2):\n",
    "    return num1 + num2\n",
    "\n",
    "total_sum = sum_of_two_numbers(num1, num2)\n",
    "print(f\"The sum of 12 and 39 is {total_sum}\")"
   ]
  },
  {
   "cell_type": "markdown",
   "metadata": {},
   "source": [
    "## **2-Agreement Boot**\n",
    "\n",
    "**Write a program which asks the user what their favorite animal is, and then always responds with \"My favorite animal is also ___!\" (the blank should be filled in with the user-inputted animal, of course).**<br>\n",
    "\n",
    "Here's a sample run of the program (user input is in bold italics - note the space between the prompt and the user input!):<br>\n",
    "\n",
    "What's your favorite animal? cow<br>\n",
    "\n",
    "My favorite animal is also cow!<br>"
   ]
  },
  {
   "cell_type": "code",
   "execution_count": 11,
   "metadata": {},
   "outputs": [
    {
     "name": "stdout",
     "output_type": "stream",
     "text": [
      "My favorite animal is also Cat!\n"
     ]
    }
   ],
   "source": [
    "favorite_animal = input(\"What's your favorite animal? \")\n",
    "\n",
    "def favourite_animal(favorite_animal):\n",
    "    return f\"My favorite animal is also {favorite_animal}!\"\n",
    "\n",
    "print(favourite_animal(favorite_animal))   "
   ]
  },
  {
   "cell_type": "markdown",
   "metadata": {},
   "source": [
    "## **3-Fahrenheit to Celsius**\n",
    "\n",
    "**Write a program which prompts the user for a temperature in Fahrenheit (this can be a number with decimal places!) and outputs the temperature converted to Celsius.**\n",
    "\n",
    "**The Celsius scale is widely used to measure temperature, but places still use Fahrenheit. Fahrenheit is another unit for temperature, but the scale is different from Celsius -- for example, 0 degrees Celsius is 32 degrees Fahrenheit!**\n",
    "\n",
    "**The equation you should use for converting from Fahrenheit to Celsius is the following:**\n",
    "\n",
    "degrees_celsius = (degrees_fahrenheit - 32) * 5.0/9.0<br>\n",
    "\n",
    "(Note. The .0 after the 5 and 9 matters in the line above!!!)<br>\n",
    "\n",
    "Here's a sample run of the program (user input is in bold italics):<br>\n",
    "\n",
    "Enter temperature in Fahrenheit: 76<br>\n",
    "\n",
    "Temperature: 76.0F = 24.444444444444443C<br>"
   ]
  },
  {
   "cell_type": "code",
   "execution_count": 10,
   "metadata": {},
   "outputs": [
    {
     "name": "stdout",
     "output_type": "stream",
     "text": [
      "Enter the Temperature of Fahrenheit is 76.0\n"
     ]
    },
    {
     "data": {
      "text/plain": [
       "'Temperature Farenheiit is : 76.0F = Temperature Celcius is 24.444444444444443C'"
      ]
     },
     "execution_count": 10,
     "metadata": {},
     "output_type": "execute_result"
    }
   ],
   "source": [
    "## Making the function of Farenhite to Celcius\n",
    "\n",
    "def fahrenheit_to_celsius():\n",
    "    fahrenheit_temp = float(input(\"Enter temperature in Fahrenheit: \"))\n",
    "    celsius_temp = (fahrenheit_temp - 32) * 5.0/9.0\n",
    "    print(f\"Enter the Temperature of Fahrenheit is {fahrenheit_temp}\")\n",
    "    return f\"Temperature Farenheiit is : {fahrenheit_temp}F = Temperature Celcius is {celsius_temp}C\"\n",
    "\n",
    "fahrenheit_to_celsius()"
   ]
  },
  {
   "cell_type": "markdown",
   "metadata": {},
   "source": [
    "## **4-Triangle Perimeters**\n",
    "**Prompt the user to enter the lengths of each side of a triangle and then calculate and print the perimeter of the triangle (the sum of all of the side lengths).**\n",
    "\n",
    "**Here's a sample run of the program (user input is in bold italics):**\n",
    "\n",
    "What is the length of side 1? 3<br>\n",
    "\n",
    "What is the length of side 2? 4<br>\n",
    "\n",
    "What is the length of side 3? 5.5<br>\n",
    "\n",
    "The perimeter of the triangle is 12.5<br>"
   ]
  },
  {
   "cell_type": "code",
   "execution_count": 12,
   "metadata": {},
   "outputs": [
    {
     "data": {
      "text/plain": [
       "'The perimeter of the triangle is 100.0'"
      ]
     },
     "execution_count": 12,
     "metadata": {},
     "output_type": "execute_result"
    }
   ],
   "source": [
    "## Making the function of Triangle Perimeters\n",
    "\n",
    "def triangle_perimeter():\n",
    "    side1 = float(input(\"What is the length of side 1? \"))\n",
    "    side2 = float(input(\"What is the length of side 2? \"))\n",
    "    side3 = float(input(\"What is the length of side 3? \"))\n",
    "    return f\"The perimeter of the triangle is {side1 + side2 + side3}\"\n",
    "\n",
    "triangle_perimeter()"
   ]
  },
  {
   "cell_type": "markdown",
   "metadata": {},
   "source": [
    "## **5-Square Number** \n",
    "\n",
    "**Ask the user for a number and print its square (the product of the number times itself).**\n",
    "\n",
    "**Here's a sample run of the program (user input is in bold italics):**\n",
    "\n",
    "Type a number to see its square: 4<br>\n",
    "\n",
    "4.0 squared is 16.0<br>"
   ]
  },
  {
   "cell_type": "code",
   "execution_count": 16,
   "metadata": {},
   "outputs": [
    {
     "data": {
      "text/plain": [
       "'3.0 squared is 9.0'"
      ]
     },
     "execution_count": 16,
     "metadata": {},
     "output_type": "execute_result"
    }
   ],
   "source": [
    "## Making the function of Square Number\n",
    "\n",
    "def square_number():\n",
    "    number = float(input(\"Type a number to see its square: \"))\n",
    "    return f\"{number} squared is {number ** 2}\"\n",
    "\n",
    "square_number()"
   ]
  },
  {
   "cell_type": "markdown",
   "metadata": {},
   "source": [
    "## **6-Delete a number** \n",
    "\n",
    "**Consider a list named numbers with the elements [1, 2, 3, 4, 5]. Use list method to delete the number 3?**"
   ]
  },
  {
   "cell_type": "code",
   "execution_count": 20,
   "metadata": {},
   "outputs": [
    {
     "data": {
      "text/plain": [
       "[1, 2, 4, 5]"
      ]
     },
     "execution_count": 20,
     "metadata": {},
     "output_type": "execute_result"
    }
   ],
   "source": [
    "## List of named numbers with the elements\n",
    "\n",
    "numbers = [1, 2, 3, 4, 5]\n",
    "\n",
    "def delete_number(numbers):\n",
    "    numbers.remove(3)\n",
    "    return numbers\n",
    "\n",
    "delete_number(numbers)"
   ]
  },
  {
   "cell_type": "markdown",
   "metadata": {},
   "source": [
    "## **7-Creating a list**\n",
    "\n",
    "You have two lists:\n",
    "\n",
    "* list1 with elements [1, 2, 3]<br>\n",
    "\n",
    "* list2 with elements [4, 5, 6].<br>\n",
    "\n",
    "* Create a program using list method to add the elements of list2 to list1.<br>\n"
   ]
  },
  {
   "cell_type": "code",
   "execution_count": 21,
   "metadata": {},
   "outputs": [
    {
     "data": {
      "text/plain": [
       "[1, 2, 3, 4, 5, 6]"
      ]
     },
     "execution_count": 21,
     "metadata": {},
     "output_type": "execute_result"
    }
   ],
   "source": [
    "## Creating a two lists\n",
    "\n",
    "list1 = [1, 2, 3]\n",
    "list2 = [4, 5, 6]\n",
    "\n",
    "def add_lists(list1, list2):\n",
    "    list1.extend(list2)\n",
    "    return list1\n",
    "\n",
    "add_lists(list1, list2)"
   ]
  },
  {
   "cell_type": "markdown",
   "metadata": {},
   "source": [
    "## **8-Pop method**\n",
    "\n",
    "**You have a list named items with the elements [10, 20, 30, 40]. If you use the pop method without any arguments, what will the list look like and what value will be removed?**"
   ]
  },
  {
   "cell_type": "code",
   "execution_count": 22,
   "metadata": {},
   "outputs": [
    {
     "data": {
      "text/plain": [
       "([10, 20, 30], 40)"
      ]
     },
     "execution_count": 22,
     "metadata": {},
     "output_type": "execute_result"
    }
   ],
   "source": [
    "## List of items with the elements\n",
    "\n",
    "items = [10, 20, 30, 40]\n",
    "\n",
    "def pop_method(items):\n",
    "    popped_item = items.pop()\n",
    "    return items, popped_item\n",
    "\n",
    "pop_method(items)"
   ]
  },
  {
   "cell_type": "markdown",
   "metadata": {},
   "source": [
    "## **9-Index Method**\n",
    "\n",
    "**You have a list called colors with the elements ['red', 'blue', 'green', 'yellow']. If you use the index method to find the position of 'green', what will the index be?**"
   ]
  },
  {
   "cell_type": "code",
   "execution_count": 23,
   "metadata": {},
   "outputs": [
    {
     "data": {
      "text/plain": [
       "2"
      ]
     },
     "execution_count": 23,
     "metadata": {},
     "output_type": "execute_result"
    }
   ],
   "source": [
    "## You have a list called colors with the elements\n",
    "\n",
    "colors = ['red', 'blue', 'green', 'yellow']\n",
    "\n",
    "def index_method(colors):\n",
    "    index = colors.index('green')\n",
    "    return index\n",
    "\n",
    "index_method(colors)"
   ]
  },
  {
   "cell_type": "markdown",
   "metadata": {},
   "source": [
    "## **Challenge Questions**"
   ]
  },
  {
   "cell_type": "markdown",
   "metadata": {},
   "source": [
    "## **10-Get last element**\n",
    "\n",
    "**Fill out the function get_last_element(lst) which takes in a list lst as a parameter and prints the last element in the list. The list is guaranteed to be non-empty, but there are no guarantees on its length.**"
   ]
  },
  {
   "cell_type": "code",
   "execution_count": 24,
   "metadata": {},
   "outputs": [
    {
     "name": "stdout",
     "output_type": "stream",
     "text": [
      "5\n"
     ]
    }
   ],
   "source": [
    "## Get the last element\n",
    "\n",
    "def get_last_element(lst):\n",
    "    print(lst[-1])\n",
    "\n",
    "get_last_element([1, 2, 3, 4, 5])"
   ]
  },
  {
   "cell_type": "markdown",
   "metadata": {},
   "source": [
    "## **11-Get a List**\n",
    "\n",
    "**Write a program which continuously asks the user to enter values which are added one by one into a list. When the user presses enter without typing anything, print the list.**\n",
    "\n",
    "Here's a sample run (user input is in blue):<br>\n",
    "\n",
    "Enter a value: 1<br>\n",
    "Enter a value: 2<br>\n",
    "Enter a value: 3<br>\n",
    "Enter a value:<br>\n",
    "Here's the list: ['1', '2', '3']<br>"
   ]
  },
  {
   "cell_type": "code",
   "execution_count": 3,
   "metadata": {},
   "outputs": [
    {
     "name": "stdout",
     "output_type": "stream",
     "text": [
      "Here's the list: ['1', '2', '3']\n"
     ]
    }
   ],
   "source": [
    "def get_values():\n",
    "    values = []\n",
    "    while True:\n",
    "        value = input(\"Enter a value: \")\n",
    "        if value == \"stop\":\n",
    "            break\n",
    "        values.append(value)\n",
    "    print(\"Here's the list:\", values)\n",
    "\n",
    "# Run the function\n",
    "get_values()"
   ]
  }
 ],
 "metadata": {
  "kernelspec": {
   "display_name": "base",
   "language": "python",
   "name": "python3"
  },
  "language_info": {
   "codemirror_mode": {
    "name": "ipython",
    "version": 3
   },
   "file_extension": ".py",
   "mimetype": "text/x-python",
   "name": "python",
   "nbconvert_exporter": "python",
   "pygments_lexer": "ipython3",
   "version": "3.11.5"
  }
 },
 "nbformat": 4,
 "nbformat_minor": 2
}
